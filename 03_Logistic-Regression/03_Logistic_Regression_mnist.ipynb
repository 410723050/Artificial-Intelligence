{
  "nbformat": 4,
  "nbformat_minor": 0,
  "metadata": {
    "colab": {
      "name": "03_Logistic_Regression_mnist.ipynb",
      "provenance": [],
      "collapsed_sections": []
    },
    "kernelspec": {
      "name": "python3",
      "display_name": "Python 3"
    }
  },
  "cells": [
    {
      "cell_type": "markdown",
      "metadata": {
        "id": "JDzzPlVD2ebV",
        "colab_type": "text"
      },
      "source": [
        "# 邏輯回歸\n",
        "\n",
        "\n",
        "![alt text](https://alexandrenesovic.files.wordpress.com/2020/05/linear-regression-vs-logistic-regression.png?w=700)\n",
        "\n"
      ]
    },
    {
      "cell_type": "markdown",
      "metadata": {
        "id": "Rz9PjVv66en-",
        "colab_type": "text"
      },
      "source": [
        "\n",
        "* 使用Keras中的 mnist 數字手寫資料集\n",
        "* 此數據集以分為訓練與測試集，各六萬與一萬張，每張圖像大小為28×28，為一維的灰階數字手寫圖像\n",
        "\n",
        "## 資料讀取\n",
        "* 使用 keras.datasets 中的 mnist.load_data()匯入數字手寫資料\n",
        "* 使用 collections 中的 Counter 可以計算資料中的每個個數\n",
        "* 使用 matplotlib 中的 matshow 在圖像以矩陣方式顯示\n"
      ]
    },
    {
      "cell_type": "code",
      "metadata": {
        "id": "VaOiMuAmEO-p",
        "colab_type": "code",
        "outputId": "ea2e124d-5c42-4b9a-bdfc-063c4f99c5f0",
        "colab": {
          "base_uri": "https://localhost:8080/",
          "height": 51
        }
      },
      "source": [
        "from keras.datasets import mnist\n",
        "import numpy as np\n",
        "\n",
        "# 讀入 MNIST\n",
        "(x_train_image, y_train_label),(x_test_image, y_test_label) = mnist.load_data() "
      ],
      "execution_count": 0,
      "outputs": [
        {
          "output_type": "stream",
          "text": [
            "Downloading data from https://s3.amazonaws.com/img-datasets/mnist.npz\n",
            "11493376/11490434 [==============================] - 1s 0us/step\n"
          ],
          "name": "stdout"
        }
      ]
    },
    {
      "cell_type": "code",
      "metadata": {
        "id": "T1bY2g9bFzEY",
        "colab_type": "code",
        "outputId": "7ea4f798-c2d6-4add-b850-109c58d70e80",
        "colab": {
          "base_uri": "https://localhost:8080/",
          "height": 85
        }
      },
      "source": [
        "from collections import Counter\n",
        "\n",
        "print(\"訓練集的特徵維度\", x_train_image.shape)\n",
        "print(\"訓練集類別數量：%s\" %Counter(y_train_label))\n",
        "print(\"測試集的特徵維度\", x_test_image.shape)\n",
        "print(\"訓練集類別數量：%s\" %Counter(y_test_label))"
      ],
      "execution_count": 0,
      "outputs": [
        {
          "output_type": "stream",
          "text": [
            "訓練集的特徵維度 (60000, 28, 28)\n",
            "訓練集類別數量：Counter({1: 6742, 7: 6265, 3: 6131, 2: 5958, 9: 5949, 0: 5923, 6: 5918, 8: 5851, 4: 5842, 5: 5421})\n",
            "測試集的特徵維度 (10000, 28, 28)\n",
            "訓練集類別數量：Counter({1: 1135, 2: 1032, 7: 1028, 3: 1010, 9: 1009, 4: 982, 0: 980, 8: 974, 6: 958, 5: 892})\n"
          ],
          "name": "stdout"
        }
      ]
    },
    {
      "cell_type": "code",
      "metadata": {
        "id": "3lRFTSrhEkFJ",
        "colab_type": "code",
        "outputId": "9353e691-3590-424d-971a-8ff20a16a158",
        "colab": {
          "base_uri": "https://localhost:8080/",
          "height": 316
        }
      },
      "source": [
        "import matplotlib.pyplot as plt\n",
        "\n",
        "first_train_label = y_train_label[0]\n",
        "first_train_img = x_train_image[0, :]\n",
        "plt.matshow(first_train_img, cmap = plt.get_cmap('gray'))\n",
        "plt.xlabel(\"\\n Label: %s\" %(first_train_label), size=20)\n",
        "plt.show()"
      ],
      "execution_count": 0,
      "outputs": [
        {
          "output_type": "display_data",
          "data": {
            "image/png": "[encoded data removed]",
            "text/plain": [
              "<Figure size 288x288 with 1 Axes>"
            ]
          },
          "metadata": {
            "tags": [],
            "needs_background": "light"
          }
        }
      ]
    },
    {
      "cell_type": "code",
      "metadata": {
        "id": "gwRQm973Tarz",
        "colab_type": "code",
        "outputId": "ac39c806-02c8-47e6-9a5e-1e95653b6684",
        "colab": {
          "base_uri": "https://localhost:8080/",
          "height": 51
        }
      },
      "source": [
        "x_train = x_train_image.reshape(60000, 28*28).astype('float32')\n",
        "print(x_train.shape)\n",
        "x_test = x_test_image.reshape(10000, 28*28).astype('float32')\n",
        "print(x_test.shape)"
      ],
      "execution_count": 0,
      "outputs": [
        {
          "output_type": "stream",
          "text": [
            "(60000, 784)\n",
            "(10000, 784)\n"
          ],
          "name": "stdout"
        }
      ]
    },
    {
      "cell_type": "markdown",
      "metadata": {
        "id": "h-Lrl3Ax8f70",
        "colab_type": "text"
      },
      "source": [
        "## 建立邏輯回歸模型\n",
        "* 模型初始化\n",
        "* sklearn 使用 confusion_matrix 顯示混淆矩陣\n",
        "* sklearn 使用 accuracy_score 計算準確度\n",
        "* seaborn 使用 heatmap 繪製熱圖"
      ]
    },
    {
      "cell_type": "code",
      "metadata": {
        "id": "xNxSpr_oO30r",
        "colab_type": "code",
        "outputId": "ec25b868-7920-4037-bbde-904d1fee10d2",
        "colab": {
          "base_uri": "https://localhost:8080/",
          "height": 238
        }
      },
      "source": [
        "from sklearn.linear_model import LogisticRegression\n",
        "LG = LogisticRegression(max_iter=1000,C=0.1,penalty='l2', random_state=0)\n",
        "LG.fit(x_train, y_train_label)"
      ],
      "execution_count": 0,
      "outputs": [
        {
          "output_type": "stream",
          "text": [
            "/usr/local/lib/python3.6/dist-packages/sklearn/linear_model/_logistic.py:940: ConvergenceWarning: lbfgs failed to converge (status=1):\n",
            "STOP: TOTAL NO. of ITERATIONS REACHED LIMIT.\n",
            "\n",
            "Increase the number of iterations (max_iter) or scale the data as shown in:\n",
            "    https://scikit-learn.org/stable/modules/preprocessing.html\n",
            "Please also refer to the documentation for alternative solver options:\n",
            "    https://scikit-learn.org/stable/modules/linear_model.html#logistic-regression\n",
            "  extra_warning_msg=_LOGISTIC_SOLVER_CONVERGENCE_MSG)\n"
          ],
          "name": "stderr"
        },
        {
          "output_type": "execute_result",
          "data": {
            "text/plain": [
              "LogisticRegression(C=0.1, class_weight=None, dual=False, fit_intercept=True,\n",
              "                   intercept_scaling=1, l1_ratio=None, max_iter=1000,\n",
              "                   multi_class='auto', n_jobs=None, penalty='l2',\n",
              "                   random_state=0, solver='lbfgs', tol=0.0001, verbose=0,\n",
              "                   warm_start=False)"
            ]
          },
          "metadata": {
            "tags": []
          },
          "execution_count": 43
        }
      ]
    },
    {
      "cell_type": "code",
      "metadata": {
        "id": "dtf30KbgT-cS",
        "colab_type": "code",
        "outputId": "85554ef7-4d2e-4738-bc7d-5a84b7286384",
        "colab": {
          "base_uri": "https://localhost:8080/",
          "height": 221
        }
      },
      "source": [
        "from sklearn.metrics import confusion_matrix, accuracy_score\n",
        "\n",
        "predictions = LG.predict(x_test)\n",
        "cm = confusion_matrix(y_test_label, predictions)\n",
        "acc = accuracy_score(y_test_label, predictions)\n",
        "\n",
        "print(\"準確度:\", acc)\n",
        "print(\"混淆矩陣:\\n\", cm)"
      ],
      "execution_count": 0,
      "outputs": [
        {
          "output_type": "stream",
          "text": [
            "準確度: 0.9202\n",
            "混淆矩陣:\n",
            " [[ 955    0    3    2    1    5    6    4    4    0]\n",
            " [   0 1111    8    3    0    1    3    2    7    0]\n",
            " [   5   14  915   20   12    6   11    9   37    3]\n",
            " [   3    1   19  921    2   22    3   11   22    6]\n",
            " [   3    3    5    4  910    0   11    6    9   31]\n",
            " [  12    5    3   36   12  758   19    6   34    7]\n",
            " [  10    3    8    2    7   17  907    1    3    0]\n",
            " [   4    7   25    8    5    2    0  944    3   30]\n",
            " [   7   14    6   20    8   24   10   13  860   12]\n",
            " [   7    6    2    9   22    7    1   23   11  921]]\n"
          ],
          "name": "stdout"
        }
      ]
    },
    {
      "cell_type": "code",
      "metadata": {
        "id": "UFMb0O6dWNi6",
        "colab_type": "code",
        "outputId": "cb17a7fd-4d2d-4dc8-fb4f-beb2a443beb1",
        "colab": {
          "base_uri": "https://localhost:8080/",
          "height": 526
        }
      },
      "source": [
        "import seaborn as sns\n",
        "\n",
        "plt.figure(figsize=(9,9))\n",
        "sns.heatmap(cm, annot=True, fmt=\".0f\", linewidths=1.0, square = True, cmap = 'Blues_r');\n",
        "plt.ylabel('Actual label', size = 18);\n",
        "plt.xlabel('Predicted label', size = 18);\n",
        "plt.title('Accuracy Score: {0}'.format(acc), size = 20);"
      ],
      "execution_count": 0,
      "outputs": [
        {
          "output_type": "display_data",
          "data": {
            "image/png": "[encoded data removed]",
            "text/plain": [
              "<Figure size 648x648 with 2 Axes>"
            ]
          },
          "metadata": {
            "tags": [],
            "needs_background": "light"
          }
        }
      ]
    },
    {
      "cell_type": "markdown",
      "metadata": {
        "id": "sCTP94TW9utQ",
        "colab_type": "text"
      },
      "source": [
        "## 儲存與讀取模型\n",
        "* 讀取影像方式並轉成陣列\n",
        "  1. matplotlib 中的 imread\n",
        "  2. PIL 中的 Image.open\n",
        "  3. OpenCV(cv2) 中的 imread"
      ]
    },
    {
      "cell_type": "code",
      "metadata": {
        "id": "zKNRlJ-5Y5aa",
        "colab_type": "code",
        "outputId": "00558881-f142-40dd-c8ea-f7cb093ea6e3",
        "colab": {
          "base_uri": "https://localhost:8080/",
          "height": 309
        }
      },
      "source": [
        "from sklearn.externals import joblib \n",
        "\n",
        "#儲存Model\n",
        "joblib.dump(LG, 'Logistic_Regression_mnist.pkl')\n",
        "\n",
        "#讀取Model\n",
        "LG = joblib.load('Logistic_Regression_mnist.pkl')\n",
        "\n",
        "#測試Model\n",
        "#第一種讀取影像方式\n",
        "image_test = plt.imread('2.png')\n",
        "\n",
        "#第二種讀取影像方式\n",
        "from PIL import Image\n",
        "img = Image.open('2.png').convert('L')\n",
        "\n",
        "#第三種讀取影像方式\n",
        "import cv2\n",
        "img = cv2.imread('2.png')\n",
        "img = cv2.cvtColor(img, cv2.COLOR_BGR2GRAY)\n",
        "print(img.shape)\n",
        "\n",
        "#打印圖片\n",
        "plt.matshow(img, cmap = plt.get_cmap('gray'))\n",
        "plt.show()\n",
        "\n",
        "re_img = cv2.resize(img, (28,28))\n",
        "re_img = re_img.reshape(1, 28*28).astype('float32')\n",
        "\n",
        "predictions = LG.predict(re_img)\n",
        "print(\"預測數字為：\", predictions[0])"
      ],
      "execution_count": 0,
      "outputs": [
        {
          "output_type": "stream",
          "text": [
            "(50, 50)\n"
          ],
          "name": "stdout"
        },
        {
          "output_type": "display_data",
          "data": {
            "image/png": "[encoded data removed]",
            "text/plain": [
              "<Figure size 288x288 with 1 Axes>"
            ]
          },
          "metadata": {
            "tags": [],
            "needs_background": "light"
          }
        },
        {
          "output_type": "stream",
          "text": [
            "預測數字為： 2\n"
          ],
          "name": "stdout"
        }
      ]
    }
  ]
}