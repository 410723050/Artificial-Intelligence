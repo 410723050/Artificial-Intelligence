{
 "cells": [
  {
   "cell_type": "code",
   "execution_count": 26,
   "metadata": {},
   "outputs": [],
   "source": [
    "import tkinter as tk \n",
    "from tkinter import messagebox \n",
    "from tkinter.font import Font \n",
    "import pandas as pd \n",
    "import numpy as np\n",
    "import joblib "
   ]
  },
  {
   "cell_type": "code",
   "execution_count": 27,
   "metadata": {},
   "outputs": [],
   "source": [
    "def show_text():\n",
    "    get_data= []\n",
    "    \n",
    "    get_data.append(float(radVar.get()))\n",
    "    print(get_data)\n",
    "    \n",
    "    #將輸入左右欄的值儲存至列表\n",
    "    for i in range(len(entry)):\n",
    "        get_data.append(float(entry[i].get()))\n",
    "    #print(get_data)   \n",
    "    \n",
    "    #左心室肥大的支持向量機模型匯入\n",
    "    LR = joblib.load('Linear_Regression_BMI.pkl')\n",
    "    \n",
    "    #計算實際值\n",
    "    BMI = (get_data[3])/((get_data[2]*0.01)**2)\n",
    "    \n",
    "    #公制轉英制\n",
    "    get_data[2] = get_data[2]/2.54\n",
    "    get_data[3] = get_data[3]/0.45\n",
    "    print(get_data[2],get_data[3])\n",
    "\n",
    "    #輸入的資料代入模型來預測\n",
    "    predict = LR.predict([get_data])\n",
    "    \n",
    "    #預測框\n",
    "    #print(predict)\n",
    "    messagebox.showinfo(title='Result', message='Predicted value:%0.3f \\n Actual value:%0.3f' %(predict[0], BMI))"
   ]
  },
  {
   "cell_type": "code",
   "execution_count": 28,
   "metadata": {},
   "outputs": [],
   "source": [
    "def clear_text():\n",
    "    for i in range(len(label_name)):\n",
    "        entry[i].delete(0, 'end')"
   ]
  },
  {
   "cell_type": "code",
   "execution_count": 29,
   "metadata": {},
   "outputs": [
    {
     "name": "stdout",
     "output_type": "stream",
     "text": [
      "[0.0]\n",
      "64.96062992125984 100.0\n"
     ]
    }
   ],
   "source": [
    "#建立視窗\n",
    "app = tk.Tk()\n",
    "\n",
    "#建立視窗標題\n",
    "app.title('Body Mass Index')\n",
    "\n",
    "#建立視窗背景\n",
    "#app.configure(background = 'white')\n",
    "\n",
    "#建立視窗大小\n",
    "app.geometry('360x280')\n",
    "\n",
    "#設立字體\n",
    "title_label_Font = Font(family=\"Times\", size=18, underline=1)\n",
    "subtitle_label_Font_1 = Font(family=\"Times\", size=14)\n",
    "\n",
    "\n",
    "#建立標籤與位置\n",
    "#建立兩個畫面布局\n",
    "#布局一\n",
    "frame_title = tk.Frame(app)\n",
    "frame_title.grid(column=0, row=0, ipadx=3, pady=3)\n",
    "\n",
    "#布局二\n",
    "frame_input = tk.Frame(app)\n",
    "frame_input.grid(column=0, row=1, ipadx=3, pady=3)\n",
    "\n",
    "#放置標題\n",
    "label_Title = tk.Label(frame_title,text=\"Body Mass Index\", font=title_label_Font)\n",
    "label_Title.grid(column=0, row=0, ipadx=100, pady=0)\n",
    "\n",
    "#放置副標題\n",
    "label_Subtitle = tk.Label(frame_title,text=\"※ Please enter the correct value.\", font=subtitle_label_Font_1)\n",
    "label_Subtitle.grid(column=0, row=1, ipadx=5, pady=5)\n",
    "\n",
    "\n",
    "radVar = tk.IntVar()\n",
    "sex_name = [(\"Male\", 0),(\"Female\", 1)]\n",
    "for sex, num in sex_name:\n",
    "    radbtn = tk.Radiobutton(frame_input, text=sex, variable=radVar, value=num, command = None)\n",
    "    radbtn.grid(column=num, row=0, ipadx=1, pady=1, sticky=tk.W+tk.N)\n",
    "\n",
    "label_name = ['Age(int)', 'Height(cm)', 'Weight(kg)']\n",
    "\n",
    "#放置標籤與輸入位置\n",
    "entry = []\n",
    "for i in range(len(label_name)):\n",
    "\n",
    "    label = tk.Label(frame_input,text = label_name[i])\n",
    "    label.grid(column=0, row=i+1, ipadx=5, pady=5, sticky=tk.W+tk.N)\n",
    "\n",
    "    entry.append(tk.Entry(frame_input, width=10))\n",
    "    entry[i].grid(column=1, row=i+1, padx=10, pady=5, sticky=tk.N)\n",
    "\n",
    "#放置按鈕與位置\n",
    "resultButton = tk.Button(frame_input, text = 'Get Result', command = show_text)\n",
    "resultButton.grid(column=0, row=5, pady=10)\n",
    "\n",
    "clear_button = tk.Button(frame_input, text= \"Clear text\", command = clear_text)\n",
    "clear_button.grid(column=1, row=5, pady=10)\n",
    "\n",
    "#程式開始迴圈\n",
    "app.mainloop()"
   ]
  },
  {
   "cell_type": "code",
   "execution_count": null,
   "metadata": {},
   "outputs": [],
   "source": []
  }
 ],
 "metadata": {
  "kernelspec": {
   "display_name": "Python 3",
   "language": "python",
   "name": "python3"
  },
  "language_info": {
   "codemirror_mode": {
    "name": "ipython",
    "version": 3
   },
   "file_extension": ".py",
   "mimetype": "text/x-python",
   "name": "python",
   "nbconvert_exporter": "python",
   "pygments_lexer": "ipython3",
   "version": "3.7.6"
  }
 },
 "nbformat": 4,
 "nbformat_minor": 4
}
