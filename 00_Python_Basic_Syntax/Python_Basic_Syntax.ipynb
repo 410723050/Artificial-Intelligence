{
  "nbformat": 4,
  "nbformat_minor": 0,
  "metadata": {
    "colab": {
      "name": "Python_Basic_Syntax.ipynb",
      "provenance": [],
      "collapsed_sections": [],
      "toc_visible": true
    },
    "kernelspec": {
      "name": "python3",
      "display_name": "Python 3"
    }
  },
  "cells": [
    {
      "cell_type": "markdown",
      "metadata": {
        "id": "Vk7sewWu9J7Y",
        "colab_type": "text"
      },
      "source": [
        "# **01 打印**\n",
        "*  基本打印輸出 `print(value, ... , sep=\"\", end = \"\\n\")`\n",
        "  * **value**：表示想要輸出的資料，可以多筆資料輸出，並以逗號隔開\n",
        "  * **sep**：放多個字串，預設會使用空白串成一行。可透過變更分隔符號，改變打印方式\n",
        "  * **end**：當資料輸出結束時所插入的字元，預設式插入換行字元\n",
        "*  格式化打印輸出 `print(\"輸出格式區\" %(變數系列區))`\n",
        "  * **%d**：整數\n",
        "  * **%f**：浮點數\n",
        "  * **%s**：字串\n",
        "  * **%e**：科學記號\n",
        "* 增強格式化打印輸出 `print(\"輸出格式區\" .format(變數系列區))`\n",
        "  * 可透過編號改變順序\n",
        "* 不用迴圈式來打印出重複字串"
      ]
    },
    {
      "cell_type": "code",
      "metadata": {
        "id": "6RhRUgZn0jDX",
        "colab_type": "code",
        "colab": {
          "base_uri": "https://localhost:8080/",
          "height": 187
        },
        "outputId": "15d908da-5f39-4dd5-a3fd-fbb17f7410d3"
      },
      "source": [
        "#打印\n",
        "print(\"Hello! Python\")\n",
        "\n",
        "#字串連接\n",
        "print('A', 'B', 'C')\n",
        "\n",
        "#更改分隔符號\n",
        "print('A', 'B', 'C', sep = '/')\n",
        "print('A', 'B', 'C', sep = '\\n')\n",
        "\n",
        "#格式化打印\n",
        "print('我是{:s}，我的年齡是{:d}歲' .format('小明', 18))\n",
        "print('我的身高是%0.1f公分，體重是%0.2f公斤' %(175.86, 68.65))\n",
        "print('我的興趣是{0}、{2}和{1}' .format(\"打程式\", \"玩遊戲\", \"閱讀\"))\n",
        "\n",
        "#重複打印\n",
        "text = \"我喜歡打程式 \\t\" * 5\n",
        "print(text)"
      ],
      "execution_count": null,
      "outputs": [
        {
          "output_type": "stream",
          "text": [
            "Hello! Python\n",
            "A B C\n",
            "A/B/C\n",
            "A\n",
            "B\n",
            "C\n",
            "我是小明，我的年齡是18歲\n",
            "我的身高是175.9公分，體重是68.65公斤\n",
            "我的興趣是打程式、閱讀和玩遊戲\n",
            "我喜歡打程式 \t我喜歡打程式 \t我喜歡打程式 \t我喜歡打程式 \t我喜歡打程式 \t\n"
          ],
          "name": "stdout"
        }
      ]
    },
    {
      "cell_type": "markdown",
      "metadata": {
        "id": "xiAr7Oik8wIA",
        "colab_type": "text"
      },
      "source": [
        "-----\n",
        "# **02 註解**\n",
        "* 「#」 可作註解，該行後面不會顯示\n",
        "* 「'''」　三個單引號可作註解，中間的不會顯示\n",
        "* 「\"\"\"」　三個雙引號可作註解，中間的不會顯示"
      ]
    },
    {
      "cell_type": "code",
      "metadata": {
        "id": "03xVIYDN8s7y",
        "colab_type": "code",
        "colab": {
          "base_uri": "https://localhost:8080/",
          "height": 34
        },
        "outputId": "5d8df389-d71f-49d0-ed56-89b9cafb04df"
      },
      "source": [
        "#註解\n",
        "#print(\"我不會打印出來，因為我是註解\")\n",
        "\n",
        "#三個雙引號當註解\n",
        "\"\"\"print(\"我不會打印出來，因為我是註解\")\n",
        "\"\"\"\n",
        "\n",
        "#三個單引號當註解\n",
        "'''\n",
        "print(\"我不會打印出來，因為我是註解\")\n",
        "'''\n",
        "\n",
        "print(\"我沒有註解\")"
      ],
      "execution_count": null,
      "outputs": [
        {
          "output_type": "stream",
          "text": [
            "我沒有註解\n"
          ],
          "name": "stdout"
        }
      ]
    },
    {
      "cell_type": "markdown",
      "metadata": {
        "id": "YOUCCLB02xev",
        "colab_type": "text"
      },
      "source": [
        "------\n",
        "# **03 變數的命名原則**\n",
        "\n",
        "\n",
        "=====================================================\n",
        "# **03-1 Python 系統保留字**\n",
        "\n",
        "![GITHUB](https://github.com/j82887/Artificial-Intelligence/blob/master/00_Image/Python%20Reserved%20Word.png?raw=true)\n",
        "\n",
        "\n",
        "=====================================================\n",
        "# **03-2 Python 系統內建函數**\n",
        "\n",
        "![GITHUB](https://github.com/j82887/Artificial-Intelligence/blob/master/00_Image/Python%20Built-in%20System%20Functions.png?raw=true)"
      ]
    },
    {
      "cell_type": "markdown",
      "metadata": {
        "id": "n9DUSValHlrr",
        "colab_type": "text"
      },
      "source": [
        "----------\n",
        "# **04 基本數學運算**\n",
        "* 加、減、乘 與 除\n",
        "* 餘數 和 整除\n",
        "* 次方\n",
        "* 指派運算子\n",
        "* 等號多重指定使用\n",
        "* 刪除變數\n"
      ]
    },
    {
      "cell_type": "code",
      "metadata": {
        "id": "W0i7njZ9G_Gl",
        "colab_type": "code",
        "colab": {
          "base_uri": "https://localhost:8080/",
          "height": 238
        },
        "outputId": "67d4ecd3-b76a-48c8-ee2f-30a84ac0e3d3"
      },
      "source": [
        "# 加、減、乘 與 除\n",
        "a = 10\n",
        "b = 3\n",
        "print(\"01. +：\", a+b)\n",
        "print(\"02. -：\", a-b)\n",
        "print(\"03. *：\", a*b)\n",
        "print(\"04. /：\", a/b)\n",
        "\n",
        "# 餘數 和 整除\n",
        "print(\"05. %：\", a%b)\n",
        "print(\"06. //\", a//b)\n",
        "\n",
        "# 次方\n",
        "print(\"07. **：\", a ** b)\n",
        "\n",
        "# 等號多重指定 與 指派運算子\n",
        "a1 = a2 = a3 = a4 = a5 = a6 = a \n",
        "a1 += 2\n",
        "print(\"08. +=：\", a1)\n",
        "a2 -= 2\n",
        "print(\"09. -=：\", a2)\n",
        "a3 *= 2\n",
        "print(\"10. *=：\", a3)\n",
        "a4 /= 2\n",
        "print(\"11. /=：\", a4)\n",
        "a5 //= 2\n",
        "print(\"12. //=：\", a5)\n",
        "a6 **= 2\n",
        "print(\"13. **=：\", a6)\n",
        "\n",
        "# 刪除變數\n",
        "del a6\n",
        "#print(a6) #無法打印"
      ],
      "execution_count": null,
      "outputs": [
        {
          "output_type": "stream",
          "text": [
            "01. +： 13\n",
            "02. -： 7\n",
            "03. *： 30\n",
            "04. /： 3.3333333333333335\n",
            "05. %： 1\n",
            "06. // 3\n",
            "07. **： 1000\n",
            "08. +=： 12\n",
            "09. -=： 8\n",
            "10. *=： 20\n",
            "11. /=： 5.0\n",
            "12. //=： 5\n",
            "13. **=： 100\n"
          ],
          "name": "stdout"
        }
      ]
    },
    {
      "cell_type": "markdown",
      "metadata": {
        "id": "vnxgduTmLLdd",
        "colab_type": "text"
      },
      "source": [
        "---------\n",
        "# **05 基本的資料型態**\n",
        "* 數值資料型態\n",
        "  * 整數\n",
        "  * 浮點數\n",
        "  * 複數 (不常用)\n",
        "* 布林值資料型態\n",
        "* 文字序列型態\n",
        "* 字元組 (不常用)\n",
        "* 序列型態 (後面介紹)\n",
        "* 對映型態 (後面介紹)\n",
        "* 集合型態 (後面介紹)\n",
        "\n",
        "**Python 中不相同資料型態間，部分也可以執行運算，例如：整數與浮點數之間**\n"
      ]
    },
    {
      "cell_type": "code",
      "metadata": {
        "id": "ack3AnYmLKeY",
        "colab_type": "code",
        "colab": {
          "base_uri": "https://localhost:8080/",
          "height": 340
        },
        "outputId": "a5033134-7435-4f9a-df55-f7155e6e1f12"
      },
      "source": [
        "#數值資料型態\n",
        "a = 10\n",
        "b = 0.5\n",
        "print(type(a))\n",
        "print(type(b))\n",
        "\n",
        "#強制資料型態的轉換\n",
        "b = int(b)\n",
        "print(type(b))\n",
        "print(b)\n",
        "b = str(b)\n",
        "print(type(b))\n",
        "\n",
        "#數值運算常用的函數\n",
        "print(abs(-2))           #絕對值\n",
        "print(pow(2,3))          #次方\n",
        "print(round(4.7777,1))   #四捨五入\n",
        "print(round(6.2222,3))\n",
        "\n",
        "#布林值資料型態\n",
        "a = False\n",
        "b = True\n",
        "print(b)\n",
        "print(type(b))\n",
        "print(a+b)\n",
        "print(type(a+b))\n",
        "\n",
        "#字串資料型態 \n",
        "# a = 'I'm Peter'     #字串出現單引號有問題\n",
        "a = \"I'm Peter.\"      #字串出現單引號，使用雙引號\n",
        "print(a)\n",
        "a = 'I\\'m Peter'      #字串出現單引號，使用逸出字元\n",
        "print(a)\n",
        "b = \"I love Python.\" \n",
        "c = a+\"\\t\"+b          #字串透過加號來串成新字串\n",
        "print(c)\n",
        "d = r\"123\\n321\"       #使用r防止逸出字元被轉譯\n",
        "print(d)\n",
        "\n",
        "# ASCII碼\n",
        "e = 97\n",
        "print(chr(e))\n",
        "e -= 32\n",
        "print(chr(e))"
      ],
      "execution_count": null,
      "outputs": [
        {
          "output_type": "stream",
          "text": [
            "<class 'int'>\n",
            "<class 'float'>\n",
            "<class 'int'>\n",
            "0\n",
            "<class 'str'>\n",
            "2\n",
            "8\n",
            "4.8\n",
            "6.222\n",
            "True\n",
            "<class 'bool'>\n",
            "1\n",
            "<class 'int'>\n",
            "I'm Peter.\n",
            "I'm Peter\n",
            "I'm Peter\tI love Python.\n",
            "123\\n321\n",
            "a\n",
            "A\n"
          ],
          "name": "stdout"
        }
      ]
    },
    {
      "cell_type": "markdown",
      "metadata": {
        "id": "Ljh9IGRBWIjB",
        "colab_type": "text"
      },
      "source": [
        "---\n",
        "# **06 輸出資料/打開檔案**\n",
        "\n",
        "=====================================================\n",
        "## **06-1 開啟檔案**\n",
        "`file_Obj = open(file, mode=\"r\")`\n",
        "* **file**：用字串列出域開啟的檔案\n",
        "* **mode**：開啟檔案的模式\n",
        "  * 第一個字母操作意義 \n",
        "    * r 是預設，開啟檔案供讀取\n",
        "    * w 開啟檔案供寫入，如果原先檔案有內容將被覆蓋\n",
        "    * a 開啟檔案工寫入，如果原先檔案有內容，新寫入資料將附加在後面\n",
        "    * x 開啟一個新的檔案供寫入，如果所開啟的檔案已經存在會產生錯誤\n",
        "  * 第二個字母操作意義\n",
        "    * b 開啟二進位檔案模式\n",
        "    * t 是預測，開啟文字檔案模式\n",
        "* **file_Obj**：不使用要正常關閉，要使用`file_Obj.close()`\n",
        "\n",
        "=====================================================\n",
        "## **06-2 資料輸入**\n",
        "`value = input(\"prompt:\")`\n",
        "* **value**：是變數，所輸入的資料會儲存在此變數內，不管回傳的資料是何種型態，回傳至value時皆為字串資料，如果要執行數學運算要用強制轉換等方式\n",
        "`result = eval(expression)`\n",
        "* **eval**：可以回傳字串內數學表達式的計算結果，expression必須為字串"
      ]
    },
    {
      "cell_type": "code",
      "metadata": {
        "id": "dT-n3xQbVrfj",
        "colab_type": "code",
        "colab": {
          "base_uri": "https://localhost:8080/",
          "height": 34
        },
        "outputId": "828b8a3b-b9a7-4a2f-9342-5a016c5a27b9"
      },
      "source": [
        "#開啟檔案，並寫入\n",
        "text1 = open(\"text_1.txt\", mode=\"wt\")\n",
        "print(\"Python\", file=text1)\n",
        "text1.close\n",
        "\n",
        "text2 = open(\"text_1.txt\", mode=\"at\")\n",
        "print(\"C++\", file=text2)\n",
        "text2.close"
      ],
      "execution_count": null,
      "outputs": [
        {
          "output_type": "execute_result",
          "data": {
            "text/plain": [
              "<function TextIOWrapper.close>"
            ]
          },
          "metadata": {
            "tags": []
          },
          "execution_count": 5
        }
      ]
    },
    {
      "cell_type": "code",
      "metadata": {
        "id": "itHrlyeubt0F",
        "colab_type": "code",
        "colab": {
          "base_uri": "https://localhost:8080/",
          "height": 119
        },
        "outputId": "8ceb7e26-0b21-46d3-d8a0-a02481ae7520"
      },
      "source": [
        "#資料輸入\n",
        "name = input(\"請輸入姓名：\")\n",
        "h = input(\"請輸入身高：\")\n",
        "w = input(\"請輸入體重：\")\n",
        "print(\"我是%s，身高是%s公分，體重是%s公斤\" %(name, h, w))\n",
        "print(\"資料型態是%s, %s, %s\" %(type(name), type(h), type(w)))\n",
        "bmi = float(w)/((float(h)/100)**2)\n",
        "print(\"我的BMI是%0.2f\" %(bmi))"
      ],
      "execution_count": null,
      "outputs": [
        {
          "output_type": "stream",
          "text": [
            "請輸入姓名：小明\n",
            "請輸入身高：175\n",
            "請輸入體重：65.4\n",
            "我是小明，身高是175公分，體重是65.4公斤\n",
            "資料型態是<class 'str'>, <class 'str'>, <class 'str'>\n",
            "我的BMI是21.36\n"
          ],
          "name": "stdout"
        }
      ]
    },
    {
      "cell_type": "code",
      "metadata": {
        "id": "ioc-Pr68eay3",
        "colab_type": "code",
        "colab": {
          "base_uri": "https://localhost:8080/",
          "height": 51
        },
        "outputId": "960a697d-5526-4b40-81a6-2ea85bcd8cb7"
      },
      "source": [
        "#資料輸入\n",
        "eq_str = input(\"請輸入公式：\")\n",
        "eq = eval(eq_str)\n",
        "print(\"計算結果為：%0.2f\" %(eq))"
      ],
      "execution_count": null,
      "outputs": [
        {
          "output_type": "stream",
          "text": [
            "請輸入公式：5*10/3\n",
            "計算結果為：16.67\n"
          ],
          "name": "stdout"
        }
      ]
    },
    {
      "cell_type": "markdown",
      "metadata": {
        "id": "bEtTxkB5fHdv",
        "colab_type": "text"
      },
      "source": [
        "---\n",
        "# **07 運算子**\n",
        "\n",
        "=====================================================\n",
        "# **07-1 關係運算子**\n",
        "\n",
        "![GITHUB](https://github.com/j82887/Artificial-Intelligence/blob/master/00_Image/Relational%20Operator.png?raw=true)\n",
        "\n",
        "=====================================================\n",
        "# **07-2 關係運算子**\n",
        "* and\n",
        "* or \n",
        "* not\n"
      ]
    },
    {
      "cell_type": "code",
      "metadata": {
        "id": "YTzRbuCvirdn",
        "colab_type": "code",
        "colab": {
          "base_uri": "https://localhost:8080/",
          "height": 119
        },
        "outputId": "deb4ae60-cec9-4cc2-9046-8d7a9f7c7c64"
      },
      "source": [
        "a = 2\n",
        "print(a > 3)\n",
        "print(a == 2)\n",
        "print(a != \"2\")\n",
        "print(str(a) == \"2\")\n",
        "\n",
        "b = (4>2) and (-1>-5)\n",
        "print(b)\n",
        "\n",
        "c = not(2>1)\n",
        "print(c)"
      ],
      "execution_count": null,
      "outputs": [
        {
          "output_type": "stream",
          "text": [
            "False\n",
            "True\n",
            "True\n",
            "True\n",
            "True\n",
            "False\n"
          ],
          "name": "stdout"
        }
      ]
    },
    {
      "cell_type": "markdown",
      "metadata": {
        "id": "D1fAJKXBlRFe",
        "colab_type": "text"
      },
      "source": [
        "----------\n",
        "# **08 流程控制**\n",
        "* if\n",
        "* if else\n",
        "* if elif else\n",
        "* 巢狀 if"
      ]
    },
    {
      "cell_type": "code",
      "metadata": {
        "id": "InvST5pblFm6",
        "colab_type": "code",
        "colab": {
          "base_uri": "https://localhost:8080/",
          "height": 34
        },
        "outputId": "a7b16e1e-94f3-4e82-845f-23cde99437f1"
      },
      "source": [
        "if(True):\n",
        "  print(\"程式執行了!\")"
      ],
      "execution_count": null,
      "outputs": [
        {
          "output_type": "stream",
          "text": [
            "程式執行了!\n"
          ],
          "name": "stdout"
        }
      ]
    },
    {
      "cell_type": "code",
      "metadata": {
        "id": "BUoO2DLImbiJ",
        "colab_type": "code",
        "colab": {
          "base_uri": "https://localhost:8080/",
          "height": 51
        },
        "outputId": "685b5aa8-0748-4aa3-ce0e-35007980f893"
      },
      "source": [
        "year = input(\"請輸入年齡：\")\n",
        "if(int(year)<20):\n",
        "  print(\"你年齡太小，需要年滿20歲才能購買菸酒\")\n",
        "else:\n",
        "  print(\"歡迎購買菸酒\")"
      ],
      "execution_count": null,
      "outputs": [
        {
          "output_type": "stream",
          "text": [
            "請輸入年齡：18\n",
            "你年齡太小，需要年滿20歲才能購買菸酒\n"
          ],
          "name": "stdout"
        }
      ]
    },
    {
      "cell_type": "code",
      "metadata": {
        "id": "4qY09mzCm3yR",
        "colab_type": "code",
        "colab": {
          "base_uri": "https://localhost:8080/",
          "height": 51
        },
        "outputId": "8b7aded8-58e0-4491-f27c-d56da271051b"
      },
      "source": [
        "year_name = [\"未成年\",\"青年人\",\"老年人\"]\n",
        "year = int(input(\"請輸入年齡：\"))\n",
        "if(0<year<18):\n",
        "  print(\"你是\", year_name[0])\n",
        "elif(18<=year<65):\n",
        "  print(\"你是\", year_name[1])\n",
        "elif(65<=year<150):\n",
        "  print(\"你是\", year_name[2])\n",
        "else:\n",
        "  print(\"你不是人!\")"
      ],
      "execution_count": null,
      "outputs": [
        {
          "output_type": "stream",
          "text": [
            "請輸入年齡：75\n",
            "你是 老年人\n"
          ],
          "name": "stdout"
        }
      ]
    },
    {
      "cell_type": "markdown",
      "metadata": {
        "id": "gKtCrakoq1DT",
        "colab_type": "text"
      },
      "source": [
        "--------\n",
        "# **09 列表(list)**\n",
        "* 切片\n",
        "* 索引\n",
        "* 統計資料\n",
        "  * 最大值\n",
        "  * 最小值\n",
        "  * 總和\n",
        "  * 個數\n",
        "* 更改列表元素\n",
        "* 刪除列表元素\n",
        "* 列表多重指定\n",
        "* 增加、插入與刪除列表的元素\n",
        "* 列表的排序\n",
        "* 列表內特定元素出現的次數\n"
      ]
    },
    {
      "cell_type": "code",
      "metadata": {
        "id": "jy1zHl3Cs-z7",
        "colab_type": "code",
        "colab": {
          "base_uri": "https://localhost:8080/",
          "height": 527
        },
        "outputId": "123cb6a1-f13a-4391-eb87-954656f8aebb"
      },
      "source": [
        "fruits = ['蘋果', '香蕉', '橘子']\n",
        "print(fruits)\n",
        "print(fruits[0])\n",
        "\n",
        "#索引與切片\n",
        "number = [0,1,2,3,4,5,6,7,8,9,10]\n",
        "matrix = [[0,1,2],[3,4,5],[6,7,8]]\n",
        "\n",
        "print(number[2:5])\n",
        "print(number[:3])\n",
        "print(number[:-3])\n",
        "print(number[7:])\n",
        "print(number[-7:])\n",
        "print(number[-1])\n",
        "\n",
        "print(matrix[0][2])\n",
        "print(matrix[1][1:])\n",
        "print(matrix[-1][-1])\n",
        "\n",
        "print(matrix.index([0,1,2]))\n",
        "\n",
        "#統計資料\n",
        "a = [1,2,3]\n",
        "print(min(a))\n",
        "print(max(a))\n",
        "print(sum(a))\n",
        "print(len(a))\n",
        "\n",
        "#更改列表元素\n",
        "a[0] = 4\n",
        "print(a)\n",
        "\n",
        "#刪除列表元素\n",
        "del a[1]\n",
        "print(a)\n",
        "\n",
        "#多重指定\n",
        "a, *b, c = 1,2,3,4,5,6\n",
        "print(a,b,c)\n",
        "\n",
        "#增加與刪除列表的元素\n",
        "b = [3,4,5]\n",
        "c = [1,1,1]\n",
        "print(b+c)\n",
        "\n",
        "c2 = [2]\n",
        "c2.extend(c)\n",
        "print(c2)\n",
        "\n",
        "c.append(2)\n",
        "print(c)\n",
        "\n",
        "b.insert(1,3.5)\n",
        "print(b)\n",
        "\n",
        "d1, d2 = [1,2,3,4], [1,2,3,4]\n",
        "print(d1.pop())\n",
        "print(d1)\n",
        "print(d2.pop(2))\n",
        "print(d2)\n",
        "\n",
        "#列表的排序\n",
        "e1, e2 = [3,1,2,5,4], [3,1,2,5,4]\n",
        "e1.sort()\n",
        "e2.reverse()\n",
        "print(e1)\n",
        "print(e2)\n",
        "\n",
        "#列表內特定元素出現的次數\n",
        "f = [0,0,1,0,1]\n",
        "print(f.count(0))"
      ],
      "execution_count": null,
      "outputs": [
        {
          "output_type": "stream",
          "text": [
            "['蘋果', '香蕉', '橘子']\n",
            "蘋果\n",
            "[2, 3, 4]\n",
            "[0, 1, 2]\n",
            "[0, 1, 2, 3, 4, 5, 6, 7]\n",
            "[7, 8, 9, 10]\n",
            "[4, 5, 6, 7, 8, 9, 10]\n",
            "10\n",
            "2\n",
            "[4, 5]\n",
            "8\n",
            "0\n",
            "1\n",
            "3\n",
            "6\n",
            "3\n",
            "[4, 2, 3]\n",
            "[4, 3]\n",
            "1 [2, 3, 4, 5] 6\n",
            "[3, 4, 5, 1, 1, 1]\n",
            "[2, 1, 1, 1]\n",
            "[1, 1, 1, 2]\n",
            "[3, 3.5, 4, 5]\n",
            "4\n",
            "[1, 2, 3]\n",
            "3\n",
            "[1, 2, 4]\n",
            "[1, 2, 3, 4, 5]\n",
            "[4, 5, 2, 1, 3]\n",
            "3\n"
          ],
          "name": "stdout"
        }
      ]
    },
    {
      "cell_type": "markdown",
      "metadata": {
        "id": "PYzMCzwBMHt9",
        "colab_type": "text"
      },
      "source": [
        "----------\n",
        "# 07 迴圈設計\n",
        "=====================================================\n",
        "\n",
        "## 07-1 for迴圈\n",
        "* `for var in 可迭代物件：`\n",
        "         `程式區塊`\n",
        "  * 可迭代物件可以式串列、元組、字典、集合或range()，上述與法可將可迭代物件的元素當作var重複執行，直到每個元素皆被執行一次，整個迴圈才會停止\n",
        "\n",
        "* `range(start, stop, step)`\n",
        "  * range()函數可以產生一等差級序列，常用於for迴圈的計數器\n",
        "\n",
        "* 列表生成之應用\n",
        "* enumerate物件\n",
        "  * 可以讓索引值與元素值配對出現\n",
        "* 巢狀for迴圈\n",
        "* 強制離開for迴圈指令：break\n",
        "* for迴圈不往下執行，跳至下一次迴圈中：continue\n",
        "\n",
        "=====================================================\n",
        "## 07-2 while迴圈\n",
        "* `while 條件運算：`\n",
        "         `程式區塊`\n",
        "* 巢狀while迴圈  \n",
        "* 強制離開while迴圈指令：break\n",
        "* while迴圈不往下執行，跳至下一次迴圈中：continue"
      ]
    },
    {
      "cell_type": "code",
      "metadata": {
        "id": "H4UldUoGTxpI",
        "colab_type": "code",
        "colab": {
          "base_uri": "https://localhost:8080/",
          "height": 425
        },
        "outputId": "8a5e22f3-cb64-4a72-fcf4-1f7a8bded043"
      },
      "source": [
        "#基本for迴圈\n",
        "a = [1,2,3,4]\n",
        "for i in a:\n",
        "  i += i\n",
        "print(i)\n",
        "\n",
        "for i in a[1:]:\n",
        "  print(i)\n",
        "\n",
        "#基本for迴圈\n",
        "name = [[26,'Tim',],[66,'Peter'],[30,'Tom'],[18,'Tiny']]\n",
        "young_name = []\n",
        "for y, n in name:\n",
        "  if (20<=y<65):\n",
        "    young_name.append(n)\n",
        "print(young_name)\n",
        "\n",
        "#range\n",
        "for i in range(5):\n",
        "  print(i,end=\" \")\n",
        "print()\n",
        "\n",
        "for i in range(0,10,2):\n",
        "  print(i,end=\" \")\n",
        "print()\n",
        "\n",
        "#list\n",
        "save_number = []\n",
        "for i in range(0,10,1):\n",
        "  save_number.append(i)\n",
        "print(save_number)\n",
        "\n",
        "save_number = list(range(0,10,1))\n",
        "print(save_number)\n",
        "\n",
        "#enumerate\n",
        "alphabet = ['A','B','C','D']\n",
        "for alp in enumerate(alphabet):\n",
        "  print(alp)\n",
        "\n",
        "for index, alp in enumerate(alphabet):\n",
        "  print(index, alp)\n",
        "\n",
        "for index, alp in enumerate(alphabet,10):\n",
        "  print(index, alp)\n",
        "\n",
        "#break\n",
        "for i in range(20):\n",
        "  if (i>8):\n",
        "    break\n",
        "  print(i,end=' ')\n",
        "print()\n",
        "\n",
        "#continue\n",
        "score_name = [['Kint',100],['Peter',60],['Sam', 45],['Tom', 59],['Tim',70]]\n",
        "good = 0\n",
        "save_name = []\n",
        "for name, score in score_name:\n",
        "  if score < 60:\n",
        "    continue \n",
        "  good += 1\n",
        "  save_name.append(name)\n",
        "print(\"及格有%d個人，名字為：%s\" %(good,save_name))\n",
        "\n",
        "#while\n",
        "a = 0\n",
        "while a<10:\n",
        "  a += 1\n",
        "  print(a,end=' ')"
      ],
      "execution_count": null,
      "outputs": [
        {
          "output_type": "stream",
          "text": [
            "8\n",
            "2\n",
            "3\n",
            "4\n",
            "['Tim', 'Tom']\n",
            "0 1 2 3 4 \n",
            "0 2 4 6 8 \n",
            "[0, 1, 2, 3, 4, 5, 6, 7, 8, 9]\n",
            "[0, 1, 2, 3, 4, 5, 6, 7, 8, 9]\n",
            "(0, 'A')\n",
            "(1, 'B')\n",
            "(2, 'C')\n",
            "(3, 'D')\n",
            "0 A\n",
            "1 B\n",
            "2 C\n",
            "3 D\n",
            "10 A\n",
            "11 B\n",
            "12 C\n",
            "13 D\n",
            "0 1 2 3 4 5 6 7 8 \n",
            "及格有3個人，名字為：['Kint', 'Peter', 'Tim']\n",
            "1 2 3 4 5 6 7 8 9 10 "
          ],
          "name": "stdout"
        }
      ]
    },
    {
      "cell_type": "markdown",
      "metadata": {
        "id": "ZcvJGNE1oZcD",
        "colab_type": "text"
      },
      "source": [
        "# 08 元組(Tuple)\n",
        "`tuple=(元素1, ..., 元素n)`\n",
        "\n",
        "* 與列表類似，最大差異是元素值與元素個數不可更動，不可以再給予賦值\n",
        "* 列表與元組資料互換\n",
        "* 使用zip打包多個物件\n",
        "\n",
        "### **優點**\n",
        "* 可以更安全保護資料\n",
        "* 加快程式執行速度，占用較少的系統資源"
      ]
    },
    {
      "cell_type": "code",
      "metadata": {
        "id": "5F9t1W6U7wIo",
        "colab_type": "code",
        "colab": {
          "base_uri": "https://localhost:8080/",
          "height": 353
        },
        "outputId": "acf6694d-5bbb-48bf-ba18-d23c0d70b366"
      },
      "source": [
        "number = (1,2,3,4,5)\n",
        "print(type(number))\n",
        "\n",
        "#快速建立元組的方法\n",
        "alphabet = 'A', 'B', 'C'\n",
        "print(alphabet)\n",
        "\n",
        "#修改元組內容產生錯誤\n",
        "#number[0] = 1 \n",
        "\n",
        "#元組切片(與列表相同)\n",
        "number = (0,1,2,3,4,5,6,7,8,9,10)\n",
        "matrix = ((0,1,2),(3,4,5),(6,7,8))\n",
        "\n",
        "print(number[2:5])\n",
        "print(number[:3])\n",
        "print(number[:-3])\n",
        "print(number[7:])\n",
        "print(number[-7:])\n",
        "print(number[-1])\n",
        "\n",
        "print(matrix[0][2])\n",
        "print(matrix[1][1:])\n",
        "print(matrix[-1][-1])\n",
        "\n",
        "#列表與元組資料互換\n",
        "number = list(number)\n",
        "print(number)\n",
        "number = tuple(number)\n",
        "print(number)\n",
        "\n",
        "#zip打包多個物件\n",
        "year = (20, 18, 30, 42, 25)\n",
        "name = ('Kint','Peter','Sam','Tom','Tim')\n",
        "zipdata = zip(year, name)\n",
        "print(type(zipdata))\n",
        "print(list(zipdata))\n",
        "\n",
        "for i in zip(year, name):\n",
        "  print(\"年齡：%d, 姓名：%s\" %(i[0],i[1]))"
      ],
      "execution_count": 8,
      "outputs": [
        {
          "output_type": "stream",
          "text": [
            "<class 'tuple'>\n",
            "('A', 'B', 'C')\n",
            "(2, 3, 4)\n",
            "(0, 1, 2)\n",
            "(0, 1, 2, 3, 4, 5, 6, 7)\n",
            "(7, 8, 9, 10)\n",
            "(4, 5, 6, 7, 8, 9, 10)\n",
            "10\n",
            "2\n",
            "(4, 5)\n",
            "8\n",
            "[0, 1, 2, 3, 4, 5, 6, 7, 8, 9, 10]\n",
            "(0, 1, 2, 3, 4, 5, 6, 7, 8, 9, 10)\n",
            "<class 'zip'>\n",
            "[(20, 'Kint'), (18, 'Peter'), (30, 'Sam'), (42, 'Tom'), (25, 'Tim')]\n",
            "年齡：20, 姓名：Kint\n",
            "年齡：18, 姓名：Peter\n",
            "年齡：30, 姓名：Sam\n",
            "年齡：42, 姓名：Tom\n",
            "年齡：25, 姓名：Tim\n"
          ],
          "name": "stdout"
        }
      ]
    },
    {
      "cell_type": "markdown",
      "metadata": {
        "id": "10LMO-OdojbX",
        "colab_type": "text"
      },
      "source": [
        "# 09 字典(Dict)\n",
        "\n",
        "* 定義字典：\n",
        "  * 字典是一個非序列的資料結構，元素以\"鍵(key):值(value)\"方式配對儲存\n",
        "\n",
        "   `dict={key1:value1, ..., key2:value2}`\n",
        "\n",
        "  * key通常以字串或數字當作是鍵，在一個字典中不可有重複的key出現。value則可以任何python的資料物件\n",
        "\n",
        "* 基本操作\n",
        "  * 列出/讀取\n",
        "  * 增加字典元素\n",
        "  * 更改字典元素內容\n",
        "  * 刪除字典的key與元素\n",
        "  * 字典拷貝\n",
        "  * 驗證key是否存在\n",
        "  * 合併字典\n",
        "  * 列表轉為字典\n",
        "    * 雙值列表序列轉換\n",
        "    * fromkeys()\n",
        "  * 搜尋鍵，返回值：get() \n"
      ]
    },
    {
      "cell_type": "markdown",
      "metadata": {
        "id": "-5EqyFljovfL",
        "colab_type": "text"
      },
      "source": [
        "# 11 函數(Function)\n",
        "* 函數設計\n",
        "* 單個參數與多個參數\n",
        "* 關鍵字參數(參數名稱=值)\n",
        "* 參數預設值\n",
        "* 傳回值\n",
        "* 全域變數與區域變數"
      ]
    },
    {
      "cell_type": "markdown",
      "metadata": {
        "id": "311AsmUKo2nQ",
        "colab_type": "text"
      },
      "source": [
        "# 12 類別(Class)"
      ]
    }
  ]
}