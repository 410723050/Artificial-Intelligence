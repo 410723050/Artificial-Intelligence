{
  "nbformat": 4,
  "nbformat_minor": 0,
  "metadata": {
    "colab": {
      "name": "Python_Basic_Syntax.ipynb",
      "provenance": [],
      "collapsed_sections": [],
      "toc_visible": true
    },
    "kernelspec": {
      "name": "python3",
      "display_name": "Python 3"
    }
  },
  "cells": [
    {
      "cell_type": "markdown",
      "metadata": {
        "id": "Vk7sewWu9J7Y",
        "colab_type": "text"
      },
      "source": [
        "# **01 打印**\n",
        "*  基本打印輸出 `print(value, ... , sep=\"\", end = \"\\n\")`\n",
        "  * **value**：表示想要輸出的資料，可以多筆資料輸出，並以逗號隔開\n",
        "  * **sep**：放多個字串，預設會使用空白串成一行。可透過變更分隔符號，改變打印方式\n",
        "  * **end**：當資料輸出結束時所插入的字元，預設式插入換行字元\n",
        "*  格式化打印輸出 `print(\"輸出格式區\" %(變數系列區))`\n",
        "  * **%d**：整數\n",
        "  * **%f**：浮點數\n",
        "  * **%s**：字串\n",
        "  * **%e**：科學記號\n",
        "* 增強格式化打印輸出 `print(\"輸出格式區\" .format(變數系列區))`\n",
        "  * 可透過編號改變順序\n",
        "* 不用迴圈式來打印出重複字串"
      ]
    },
    {
      "cell_type": "code",
      "metadata": {
        "id": "O8LCjOL1BQev",
        "colab_type": "code",
        "colab": {
          "base_uri": "https://localhost:8080/",
          "height": 34
        },
        "outputId": "4d643f9b-a0fe-4285-ce7e-f243536d32e5"
      },
      "source": [
        "#打印\n",
        "print(\"Hello! Python\")"
      ],
      "execution_count": 18,
      "outputs": [
        {
          "output_type": "stream",
          "text": [
            "Hello! Python\n"
          ],
          "name": "stdout"
        }
      ]
    },
    {
      "cell_type": "code",
      "metadata": {
        "id": "ii865MsZBTYx",
        "colab_type": "code",
        "colab": {
          "base_uri": "https://localhost:8080/",
          "height": 34
        },
        "outputId": "792c7e30-0798-4ebf-cb70-ecad6d5b809f"
      },
      "source": [
        "#字串連接\n",
        "print('A', 'B', 'C')"
      ],
      "execution_count": 19,
      "outputs": [
        {
          "output_type": "stream",
          "text": [
            "A B C\n"
          ],
          "name": "stdout"
        }
      ]
    },
    {
      "cell_type": "code",
      "metadata": {
        "id": "0-MTTON0BUXr",
        "colab_type": "code",
        "colab": {
          "base_uri": "https://localhost:8080/",
          "height": 85
        },
        "outputId": "59ec6c88-e11a-41a1-9f7c-1e88e4ae9d93"
      },
      "source": [
        "#更改分隔符號\n",
        "print('A', 'B', 'C', sep = '/')\n",
        "print('A', 'B', 'C', sep = '\\n')"
      ],
      "execution_count": 20,
      "outputs": [
        {
          "output_type": "stream",
          "text": [
            "A/B/C\n",
            "A\n",
            "B\n",
            "C\n"
          ],
          "name": "stdout"
        }
      ]
    },
    {
      "cell_type": "code",
      "metadata": {
        "id": "OyUX6mwABVpL",
        "colab_type": "code",
        "colab": {
          "base_uri": "https://localhost:8080/",
          "height": 68
        },
        "outputId": "84d0c94e-176e-43f5-a3ff-551c567103c9"
      },
      "source": [
        "#格式化打印\n",
        "print('我是{:s}，我的年齡是{:d}歲' .format('小明', 18))\n",
        "print('我的身高是%0.1f公分，體重是%0.2f公斤' %(175.86, 68.65))\n",
        "print('我的興趣是{0}、{2}和{1}' .format(\"打程式\", \"玩遊戲\", \"閱讀\"))"
      ],
      "execution_count": 21,
      "outputs": [
        {
          "output_type": "stream",
          "text": [
            "我是小明，我的年齡是18歲\n",
            "我的身高是175.9公分，體重是68.65公斤\n",
            "我的興趣是打程式、閱讀和玩遊戲\n"
          ],
          "name": "stdout"
        }
      ]
    },
    {
      "cell_type": "code",
      "metadata": {
        "id": "6RhRUgZn0jDX",
        "colab_type": "code",
        "colab": {
          "base_uri": "https://localhost:8080/",
          "height": 34
        },
        "outputId": "b1bfec62-138f-4793-d1de-0c7057452bd3"
      },
      "source": [
        "#重複打印\n",
        "text = \"我喜歡打程式 \\t\" * 5\n",
        "print(text)"
      ],
      "execution_count": 22,
      "outputs": [
        {
          "output_type": "stream",
          "text": [
            "我喜歡打程式 \t我喜歡打程式 \t我喜歡打程式 \t我喜歡打程式 \t我喜歡打程式 \t\n"
          ],
          "name": "stdout"
        }
      ]
    },
    {
      "cell_type": "markdown",
      "metadata": {
        "id": "xiAr7Oik8wIA",
        "colab_type": "text"
      },
      "source": [
        "-----\n",
        "# **02 註解**\n",
        "* 「#」 可作註解，該行後面不會顯示\n",
        "* 「'''」　三個單引號可作註解，中間的不會顯示\n",
        "* 「\"\"\"」　三個雙引號可作註解，中間的不會顯示"
      ]
    },
    {
      "cell_type": "code",
      "metadata": {
        "id": "03xVIYDN8s7y",
        "colab_type": "code",
        "colab": {
          "base_uri": "https://localhost:8080/",
          "height": 34
        },
        "outputId": "68f1b5e0-f5c6-44fd-e343-4cea1e849001"
      },
      "source": [
        "#註解\n",
        "#print(\"我不會打印出來，因為我是註解\")\n",
        "\n",
        "#三個雙引號當註解\n",
        "\"\"\"print(\"我不會打印出來，因為我是註解\")\n",
        "\"\"\"\n",
        "\n",
        "#三個單引號當註解\n",
        "'''\n",
        "print(\"我不會打印出來，因為我是註解\")\n",
        "'''\n",
        "\n",
        "print(\"我沒有註解\")"
      ],
      "execution_count": 23,
      "outputs": [
        {
          "output_type": "stream",
          "text": [
            "我沒有註解\n"
          ],
          "name": "stdout"
        }
      ]
    },
    {
      "cell_type": "markdown",
      "metadata": {
        "id": "YOUCCLB02xev",
        "colab_type": "text"
      },
      "source": [
        "------\n",
        "# **03 變數的命名原則**\n",
        "\n",
        "\n",
        "=====================================================\n",
        "# **03-1 Python 系統保留字**\n",
        "\n",
        "![GITHUB](https://github.com/j82887/Artificial-Intelligence/blob/master/00_Image/Python%20Reserved%20Word.png?raw=true)\n",
        "\n",
        "\n",
        "=====================================================\n",
        "# **03-2 Python 系統內建函數**\n",
        "\n",
        "![GITHUB](https://github.com/j82887/Artificial-Intelligence/blob/master/00_Image/Python%20Built-in%20System%20Functions.png?raw=true)"
      ]
    },
    {
      "cell_type": "markdown",
      "metadata": {
        "id": "n9DUSValHlrr",
        "colab_type": "text"
      },
      "source": [
        "----------\n",
        "# **04 基本數學運算**\n",
        "* 加、減、乘 與 除\n",
        "* 餘數 和 整除\n",
        "* 次方\n",
        "* 指派運算子\n",
        "* 等號多重指定使用\n",
        "* 刪除變數\n"
      ]
    },
    {
      "cell_type": "code",
      "metadata": {
        "id": "W0i7njZ9G_Gl",
        "colab_type": "code",
        "colab": {
          "base_uri": "https://localhost:8080/",
          "height": 136
        },
        "outputId": "95a785bb-3813-45f3-c71f-bc97da9c38b6"
      },
      "source": [
        "# 加、減、乘 與 除\n",
        "a = 10\n",
        "b = 3\n",
        "print(\"加：\", a+b)\n",
        "print(\"減：\", a-b)\n",
        "print(\"乘：\", a*b)\n",
        "print(\"除：\", a/b)\n",
        "\n",
        "# 餘數 和 整除\n",
        "print(\"餘數：\", a%b)\n",
        "print(\"整除：\", a//b)\n",
        "\n",
        "# 次方\n",
        "print(\"次方：\", a ** b)"
      ],
      "execution_count": 24,
      "outputs": [
        {
          "output_type": "stream",
          "text": [
            "加： 13\n",
            "減： 7\n",
            "乘： 30\n",
            "除： 3.3333333333333335\n",
            "餘數： 1\n",
            "整除： 3\n",
            "次方： 1000\n"
          ],
          "name": "stdout"
        }
      ]
    },
    {
      "cell_type": "code",
      "metadata": {
        "id": "Y0aHhFAIBwgY",
        "colab_type": "code",
        "colab": {
          "base_uri": "https://localhost:8080/",
          "height": 119
        },
        "outputId": "4867a307-8402-4d02-eda1-970ee684714b"
      },
      "source": [
        "# 等號多重指定 與 指派運算子\n",
        "a1 = a2 = a3 = a4 = a5 = a6 = a \n",
        "a1 += 2\n",
        "print(\"加等於：\", a1)\n",
        "a2 -= 2\n",
        "print(\"減等於：\", a2)\n",
        "a3 *= 2\n",
        "print(\"乘等於：\", a3)\n",
        "a4 /= 2\n",
        "print(\"除等於：\", a4)\n",
        "a5 //= 2\n",
        "print(\"整除等於：\", a5)\n",
        "a6 **= 2\n",
        "print(\"次方等於：\", a6)"
      ],
      "execution_count": 25,
      "outputs": [
        {
          "output_type": "stream",
          "text": [
            "加等於： 12\n",
            "減等於： 8\n",
            "乘等於： 20\n",
            "除等於： 5.0\n",
            "整除等於： 5\n",
            "次方等於： 100\n"
          ],
          "name": "stdout"
        }
      ]
    },
    {
      "cell_type": "code",
      "metadata": {
        "id": "3SDdRAB-CCrb",
        "colab_type": "code",
        "colab": {}
      },
      "source": [
        "# 刪除變數\n",
        "del a6\n",
        "#print(a6) #無法打印"
      ],
      "execution_count": 26,
      "outputs": []
    },
    {
      "cell_type": "markdown",
      "metadata": {
        "id": "vnxgduTmLLdd",
        "colab_type": "text"
      },
      "source": [
        "---------\n",
        "# **05 基本的資料型態**\n",
        "* 數值資料型態\n",
        "  * 整數\n",
        "  * 浮點數\n",
        "  * 複數 (不常用)\n",
        "* 布林值資料型態\n",
        "* 文字序列型態\n",
        "* 字元組 (不常用)\n",
        "* 序列型態 (後面介紹)\n",
        "* 對映型態 (後面介紹)\n",
        "* 集合型態 (後面介紹)\n",
        "\n",
        "**Python 中不相同資料型態間，部分也可以執行運算，例如：整數與浮點數之間**\n"
      ]
    },
    {
      "cell_type": "code",
      "metadata": {
        "id": "ack3AnYmLKeY",
        "colab_type": "code",
        "colab": {
          "base_uri": "https://localhost:8080/",
          "height": 170
        },
        "outputId": "fabefa7b-36f0-4edc-b2e5-317a093865ab"
      },
      "source": [
        "#數值資料型態\n",
        "a = 10\n",
        "b = 0.5\n",
        "print(type(a))\n",
        "print(type(b))\n",
        "\n",
        "#強制資料型態的轉換\n",
        "b = int(b)\n",
        "print(type(b))\n",
        "print(b)\n",
        "b = str(b)\n",
        "print(type(b))\n",
        "\n",
        "#數值運算常用的函數\n",
        "print(abs(-2))           #絕對值\n",
        "print(pow(2,3))          #次方\n",
        "print(round(4.7777,1))   #四捨五入\n",
        "print(round(6.2222,3))"
      ],
      "execution_count": 27,
      "outputs": [
        {
          "output_type": "stream",
          "text": [
            "<class 'int'>\n",
            "<class 'float'>\n",
            "<class 'int'>\n",
            "0\n",
            "<class 'str'>\n",
            "2\n",
            "8\n",
            "4.8\n",
            "6.222\n"
          ],
          "name": "stdout"
        }
      ]
    },
    {
      "cell_type": "code",
      "metadata": {
        "id": "cW2eZPADCRXG",
        "colab_type": "code",
        "colab": {
          "base_uri": "https://localhost:8080/",
          "height": 85
        },
        "outputId": "ad95d116-ddc8-4cca-f1b0-87a27d647c85"
      },
      "source": [
        "#布林值資料型態\n",
        "a = False\n",
        "b = True\n",
        "print(b)\n",
        "print(type(b))\n",
        "print(a+b)\n",
        "print(type(a+b))"
      ],
      "execution_count": 28,
      "outputs": [
        {
          "output_type": "stream",
          "text": [
            "True\n",
            "<class 'bool'>\n",
            "1\n",
            "<class 'int'>\n"
          ],
          "name": "stdout"
        }
      ]
    },
    {
      "cell_type": "code",
      "metadata": {
        "id": "d9Lbr1kECTZd",
        "colab_type": "code",
        "colab": {
          "base_uri": "https://localhost:8080/",
          "height": 85
        },
        "outputId": "21eb7bea-a46c-46ff-d5e6-0636d1eddea8"
      },
      "source": [
        "#字串資料型態 \n",
        "# a = 'I'm Peter'     #字串出現單引號有問題\n",
        "a = \"I'm Peter.\"      #字串出現單引號，使用雙引號\n",
        "print(a)\n",
        "a = 'I\\'m Peter'      #字串出現單引號，使用逸出字元\n",
        "print(a)\n",
        "b = \"I love Python.\" \n",
        "c = a+\"\\t\"+b          #字串透過加號來串成新字串\n",
        "print(c)\n",
        "d = r\"123\\n321\"       #使用r防止逸出字元被轉譯\n",
        "print(d)"
      ],
      "execution_count": 29,
      "outputs": [
        {
          "output_type": "stream",
          "text": [
            "I'm Peter.\n",
            "I'm Peter\n",
            "I'm Peter\tI love Python.\n",
            "123\\n321\n"
          ],
          "name": "stdout"
        }
      ]
    },
    {
      "cell_type": "code",
      "metadata": {
        "id": "HiGboirpCVvl",
        "colab_type": "code",
        "colab": {
          "base_uri": "https://localhost:8080/",
          "height": 51
        },
        "outputId": "f73cabbf-ba89-4dd4-b30c-9c7aac6a2bbf"
      },
      "source": [
        "# ASCII碼\n",
        "e = 97\n",
        "print(chr(e))\n",
        "e -= 32\n",
        "print(chr(e))"
      ],
      "execution_count": 30,
      "outputs": [
        {
          "output_type": "stream",
          "text": [
            "a\n",
            "A\n"
          ],
          "name": "stdout"
        }
      ]
    },
    {
      "cell_type": "markdown",
      "metadata": {
        "id": "Ljh9IGRBWIjB",
        "colab_type": "text"
      },
      "source": [
        "---\n",
        "# **06 輸出資料/打開檔案**\n",
        "\n",
        "=====================================================\n",
        "## **06-1 開啟檔案**\n",
        "`file_Obj = open(file, mode=\"r\")`\n",
        "* **file**：用字串列出域開啟的檔案\n",
        "* **mode**：開啟檔案的模式\n",
        "  * 第一個字母操作意義 \n",
        "    * r 是預設，開啟檔案供讀取\n",
        "    * w 開啟檔案供寫入，如果原先檔案有內容將被覆蓋\n",
        "    * a 開啟檔案工寫入，如果原先檔案有內容，新寫入資料將附加在後面\n",
        "    * x 開啟一個新的檔案供寫入，如果所開啟的檔案已經存在會產生錯誤\n",
        "  * 第二個字母操作意義\n",
        "    * b 開啟二進位檔案模式\n",
        "    * t 是預測，開啟文字檔案模式\n",
        "* **file_Obj**：不使用要正常關閉，要使用`file_Obj.close()`\n",
        "\n",
        "=====================================================\n",
        "## **06-2 資料輸入**\n",
        "`value = input(\"prompt:\")`\n",
        "* **value**：是變數，所輸入的資料會儲存在此變數內，不管回傳的資料是何種型態，回傳至value時皆為字串資料，如果要執行數學運算要用強制轉換等方式\n",
        "`result = eval(expression)`\n",
        "* **eval**：可以回傳字串內數學表達式的計算結果，expression必須為字串"
      ]
    },
    {
      "cell_type": "code",
      "metadata": {
        "id": "dT-n3xQbVrfj",
        "colab_type": "code",
        "colab": {
          "base_uri": "https://localhost:8080/",
          "height": 34
        },
        "outputId": "345bb5a9-a73f-441c-91cf-981dc780497e"
      },
      "source": [
        "#開啟檔案，並寫入\n",
        "text1 = open(\"text_1.txt\", mode=\"wt\")\n",
        "print(\"Python\", file=text1)\n",
        "text1.close\n",
        "\n",
        "text2 = open(\"text_1.txt\", mode=\"at\")\n",
        "print(\"C++\", file=text2)\n",
        "text2.close"
      ],
      "execution_count": 31,
      "outputs": [
        {
          "output_type": "execute_result",
          "data": {
            "text/plain": [
              "<function TextIOWrapper.close>"
            ]
          },
          "metadata": {
            "tags": []
          },
          "execution_count": 31
        }
      ]
    },
    {
      "cell_type": "code",
      "metadata": {
        "id": "itHrlyeubt0F",
        "colab_type": "code",
        "colab": {
          "base_uri": "https://localhost:8080/",
          "height": 119
        },
        "outputId": "e6c4a06b-6fb1-4037-ea2c-7d926484c5f3"
      },
      "source": [
        "#資料輸入\n",
        "name = input(\"請輸入姓名：\")\n",
        "h = input(\"請輸入身高：\")\n",
        "w = input(\"請輸入體重：\")\n",
        "print(\"我是%s，身高是%s公分，體重是%s公斤\" %(name, h, w))\n",
        "print(\"資料型態是%s, %s, %s\" %(type(name), type(h), type(w)))\n",
        "bmi = float(w)/((float(h)/100)**2)\n",
        "print(\"我的BMI是%0.2f\" %(bmi))"
      ],
      "execution_count": 32,
      "outputs": [
        {
          "output_type": "stream",
          "text": [
            "請輸入姓名：小明\n",
            "請輸入身高：168.5\n",
            "請輸入體重：62.2\n",
            "我是小明，身高是168.5公分，體重是62.2公斤\n",
            "資料型態是<class 'str'>, <class 'str'>, <class 'str'>\n",
            "我的BMI是21.91\n"
          ],
          "name": "stdout"
        }
      ]
    },
    {
      "cell_type": "code",
      "metadata": {
        "id": "ioc-Pr68eay3",
        "colab_type": "code",
        "colab": {
          "base_uri": "https://localhost:8080/",
          "height": 51
        },
        "outputId": "40c7a1fb-d988-42e9-dcb8-5aaab1ecc27f"
      },
      "source": [
        "#資料輸入\n",
        "eq_str = input(\"請輸入公式：\")\n",
        "eq = eval(eq_str)\n",
        "print(\"計算結果為：%0.2f\" %(eq))"
      ],
      "execution_count": 33,
      "outputs": [
        {
          "output_type": "stream",
          "text": [
            "請輸入公式：2.14*5+10\n",
            "計算結果為：20.70\n"
          ],
          "name": "stdout"
        }
      ]
    },
    {
      "cell_type": "markdown",
      "metadata": {
        "id": "bEtTxkB5fHdv",
        "colab_type": "text"
      },
      "source": [
        "---\n",
        "# **07 運算子**\n",
        "\n",
        "=====================================================\n",
        "# **07-1 關係運算子**\n",
        "\n",
        "![GITHUB](https://github.com/j82887/Artificial-Intelligence/blob/master/00_Image/Relational%20Operator.png?raw=true)\n",
        "\n",
        "=====================================================\n",
        "# **07-2 關係運算子**\n",
        "* and\n",
        "* or \n",
        "* not\n"
      ]
    },
    {
      "cell_type": "code",
      "metadata": {
        "id": "YTzRbuCvirdn",
        "colab_type": "code",
        "colab": {
          "base_uri": "https://localhost:8080/",
          "height": 119
        },
        "outputId": "f6ec6b86-8f62-4556-dd95-cbf12ff773b3"
      },
      "source": [
        "a = 2\n",
        "print(a > 3)\n",
        "print(a == 2)\n",
        "print(a != \"2\")\n",
        "print(str(a) == \"2\")\n",
        "\n",
        "b = (4>2) and (-1>-5)\n",
        "print(b)\n",
        "\n",
        "c = not(2>1)\n",
        "print(c)"
      ],
      "execution_count": 34,
      "outputs": [
        {
          "output_type": "stream",
          "text": [
            "False\n",
            "True\n",
            "True\n",
            "True\n",
            "True\n",
            "False\n"
          ],
          "name": "stdout"
        }
      ]
    },
    {
      "cell_type": "markdown",
      "metadata": {
        "id": "D1fAJKXBlRFe",
        "colab_type": "text"
      },
      "source": [
        "----------\n",
        "# **08 流程控制**\n",
        "* if\n",
        "* if else\n",
        "* if elif else\n",
        "* 巢狀 if"
      ]
    },
    {
      "cell_type": "code",
      "metadata": {
        "id": "InvST5pblFm6",
        "colab_type": "code",
        "colab": {
          "base_uri": "https://localhost:8080/",
          "height": 34
        },
        "outputId": "796f25be-6028-4774-f950-590bb2518e44"
      },
      "source": [
        "if(True):\n",
        "  print(\"程式執行了!\")"
      ],
      "execution_count": 35,
      "outputs": [
        {
          "output_type": "stream",
          "text": [
            "程式執行了!\n"
          ],
          "name": "stdout"
        }
      ]
    },
    {
      "cell_type": "code",
      "metadata": {
        "id": "BUoO2DLImbiJ",
        "colab_type": "code",
        "colab": {
          "base_uri": "https://localhost:8080/",
          "height": 51
        },
        "outputId": "9847418b-8b51-469e-ed31-9fa9b1920925"
      },
      "source": [
        "year = input(\"請輸入年齡：\")\n",
        "if(int(year)<20):\n",
        "  print(\"你年齡太小，需要年滿20歲才能購買菸酒\")\n",
        "else:\n",
        "  print(\"歡迎購買菸酒\")"
      ],
      "execution_count": 36,
      "outputs": [
        {
          "output_type": "stream",
          "text": [
            "請輸入年齡：18\n",
            "你年齡太小，需要年滿20歲才能購買菸酒\n"
          ],
          "name": "stdout"
        }
      ]
    },
    {
      "cell_type": "code",
      "metadata": {
        "id": "4qY09mzCm3yR",
        "colab_type": "code",
        "colab": {
          "base_uri": "https://localhost:8080/",
          "height": 51
        },
        "outputId": "8eef7116-df80-4450-fb11-467c6babde6a"
      },
      "source": [
        "year_name = [\"未成年\",\"青年人\",\"老年人\"]\n",
        "year = int(input(\"請輸入年齡：\"))\n",
        "if(0<year<18):\n",
        "  print(\"你是\", year_name[0])\n",
        "elif(18<=year<65):\n",
        "  print(\"你是\", year_name[1])\n",
        "elif(65<=year<150):\n",
        "  print(\"你是\", year_name[2])\n",
        "else:\n",
        "  print(\"你不是人!\")"
      ],
      "execution_count": 37,
      "outputs": [
        {
          "output_type": "stream",
          "text": [
            "請輸入年齡：100\n",
            "你是 老年人\n"
          ],
          "name": "stdout"
        }
      ]
    },
    {
      "cell_type": "markdown",
      "metadata": {
        "id": "gKtCrakoq1DT",
        "colab_type": "text"
      },
      "source": [
        "--------\n",
        "# **09 列表(list)**\n",
        "* 切片\n",
        "* 索引\n",
        "* 統計資料\n",
        "  * 最大值\n",
        "  * 最小值\n",
        "  * 總和\n",
        "  * 個數\n",
        "* 更改列表元素\n",
        "* 刪除列表元素\n",
        "* 列表多重指定\n",
        "* 增加、插入與刪除列表的元素\n",
        "* 列表的排序\n",
        "* 列表內特定元素出現的次數\n"
      ]
    },
    {
      "cell_type": "code",
      "metadata": {
        "id": "jy1zHl3Cs-z7",
        "colab_type": "code",
        "colab": {
          "base_uri": "https://localhost:8080/",
          "height": 221
        },
        "outputId": "95352fd2-0245-4a8c-d7a5-d19a199fa2c4"
      },
      "source": [
        "fruits = ['蘋果', '香蕉', '橘子']\n",
        "print(fruits)\n",
        "print(fruits[0])\n",
        "\n",
        "#索引與切片\n",
        "number = [0,1,2,3,4,5,6,7,8,9,10]\n",
        "matrix = [[0,1,2],[3,4,5],[6,7,8]]\n",
        "\n",
        "print(number[2:5])\n",
        "print(number[:3])\n",
        "print(number[:-3])\n",
        "print(number[7:])\n",
        "print(number[-7:])\n",
        "print(number[-1])\n",
        "\n",
        "print(matrix[0][2])\n",
        "print(matrix[1][1:])\n",
        "print(matrix[-1][-1])\n",
        "\n",
        "print(matrix.index([0,1,2]))"
      ],
      "execution_count": 38,
      "outputs": [
        {
          "output_type": "stream",
          "text": [
            "['蘋果', '香蕉', '橘子']\n",
            "蘋果\n",
            "[2, 3, 4]\n",
            "[0, 1, 2]\n",
            "[0, 1, 2, 3, 4, 5, 6, 7]\n",
            "[7, 8, 9, 10]\n",
            "[4, 5, 6, 7, 8, 9, 10]\n",
            "10\n",
            "2\n",
            "[4, 5]\n",
            "8\n",
            "0\n"
          ],
          "name": "stdout"
        }
      ]
    },
    {
      "cell_type": "code",
      "metadata": {
        "id": "UpUWm_IhW-jP",
        "colab_type": "code",
        "colab": {
          "base_uri": "https://localhost:8080/",
          "height": 85
        },
        "outputId": "06339df2-6eba-4152-e75f-1920997b3c19"
      },
      "source": [
        "#統計資料\n",
        "a = [1,2,3]\n",
        "print(min(a))\n",
        "print(max(a))\n",
        "print(sum(a))\n",
        "print(len(a))"
      ],
      "execution_count": 39,
      "outputs": [
        {
          "output_type": "stream",
          "text": [
            "1\n",
            "3\n",
            "6\n",
            "3\n"
          ],
          "name": "stdout"
        }
      ]
    },
    {
      "cell_type": "code",
      "metadata": {
        "id": "_GcGJXEuXBCn",
        "colab_type": "code",
        "colab": {
          "base_uri": "https://localhost:8080/",
          "height": 34
        },
        "outputId": "cc93d22a-8788-492f-b112-c3bdf3ac96ef"
      },
      "source": [
        "#更改列表元素\n",
        "a[0] = 4\n",
        "print(a)"
      ],
      "execution_count": 40,
      "outputs": [
        {
          "output_type": "stream",
          "text": [
            "[4, 2, 3]\n"
          ],
          "name": "stdout"
        }
      ]
    },
    {
      "cell_type": "code",
      "metadata": {
        "id": "qbqDSoM4XEHO",
        "colab_type": "code",
        "colab": {
          "base_uri": "https://localhost:8080/",
          "height": 34
        },
        "outputId": "79622ce8-8ebc-43a6-bc0f-cfe18a49b269"
      },
      "source": [
        "#刪除列表元素\n",
        "del a[1]\n",
        "print(a)"
      ],
      "execution_count": 41,
      "outputs": [
        {
          "output_type": "stream",
          "text": [
            "[4, 3]\n"
          ],
          "name": "stdout"
        }
      ]
    },
    {
      "cell_type": "code",
      "metadata": {
        "id": "GMfbYZxuXHZu",
        "colab_type": "code",
        "colab": {
          "base_uri": "https://localhost:8080/",
          "height": 34
        },
        "outputId": "d6e051e2-1a0e-4278-d6cb-4cd48cb625a6"
      },
      "source": [
        "#多重指定\n",
        "a, *b, c = 1,2,3,4,5,6\n",
        "print(a,b,c)"
      ],
      "execution_count": 42,
      "outputs": [
        {
          "output_type": "stream",
          "text": [
            "1 [2, 3, 4, 5] 6\n"
          ],
          "name": "stdout"
        }
      ]
    },
    {
      "cell_type": "code",
      "metadata": {
        "id": "clRKVFI3XI8N",
        "colab_type": "code",
        "colab": {
          "base_uri": "https://localhost:8080/",
          "height": 153
        },
        "outputId": "91d344c0-70d2-4f58-e36c-639bfce53cd8"
      },
      "source": [
        "#增加與刪除列表的元素\n",
        "b = [3,4,5]\n",
        "c = [1,1,1]\n",
        "print(b+c)\n",
        "\n",
        "c2 = [2]\n",
        "c2.extend(c)\n",
        "print(c2)\n",
        "\n",
        "c.append(2)\n",
        "print(c)\n",
        "\n",
        "b.insert(1,3.5)\n",
        "print(b)\n",
        "\n",
        "d1, d2 = [1,2,3,4], [1,2,3,4]\n",
        "print(d1.pop())\n",
        "print(d1)\n",
        "print(d2.pop(2))\n",
        "print(d2)"
      ],
      "execution_count": 43,
      "outputs": [
        {
          "output_type": "stream",
          "text": [
            "[3, 4, 5, 1, 1, 1]\n",
            "[2, 1, 1, 1]\n",
            "[1, 1, 1, 2]\n",
            "[3, 3.5, 4, 5]\n",
            "4\n",
            "[1, 2, 3]\n",
            "3\n",
            "[1, 2, 4]\n"
          ],
          "name": "stdout"
        }
      ]
    },
    {
      "cell_type": "code",
      "metadata": {
        "id": "SP2uDyI6XKwF",
        "colab_type": "code",
        "colab": {
          "base_uri": "https://localhost:8080/",
          "height": 51
        },
        "outputId": "465119f6-7802-4946-fb23-73ffdd16043a"
      },
      "source": [
        "#列表的排序\n",
        "e1, e2 = [3,1,2,5,4], [3,1,2,5,4]\n",
        "e1.sort()\n",
        "e2.reverse()\n",
        "print(e1)\n",
        "print(e2)"
      ],
      "execution_count": 44,
      "outputs": [
        {
          "output_type": "stream",
          "text": [
            "[1, 2, 3, 4, 5]\n",
            "[4, 5, 2, 1, 3]\n"
          ],
          "name": "stdout"
        }
      ]
    },
    {
      "cell_type": "code",
      "metadata": {
        "id": "1RW0MHy-XMSd",
        "colab_type": "code",
        "colab": {
          "base_uri": "https://localhost:8080/",
          "height": 34
        },
        "outputId": "59787392-d73f-458d-a33d-95ecd12aa07b"
      },
      "source": [
        "#列表內特定元素出現的次數\n",
        "f = [0,0,1,0,1]\n",
        "print(f.count(0))"
      ],
      "execution_count": 45,
      "outputs": [
        {
          "output_type": "stream",
          "text": [
            "3\n"
          ],
          "name": "stdout"
        }
      ]
    },
    {
      "cell_type": "markdown",
      "metadata": {
        "id": "PYzMCzwBMHt9",
        "colab_type": "text"
      },
      "source": [
        "----------\n",
        "# 07 迴圈設計\n",
        "=====================================================\n",
        "\n",
        "## 07-1 for迴圈\n",
        "* `for var in 可迭代物件：`\n",
        "         `程式區塊`\n",
        "  * 可迭代物件可以式串列、元組、字典、集合或range()，上述與法可將可迭代物件的元素當作var重複執行，直到每個元素皆被執行一次，整個迴圈才會停止\n",
        "\n",
        "* `range(start, stop, step)`\n",
        "  * range()函數可以產生一等差級序列，常用於for迴圈的計數器\n",
        "\n",
        "* 列表生成之應用\n",
        "* enumerate物件\n",
        "  * 可以讓索引值與元素值配對出現\n",
        "* 巢狀for迴圈\n",
        "* 強制離開for迴圈指令：break\n",
        "* for迴圈不往下執行，跳至下一次迴圈中：continue\n",
        "\n",
        "=====================================================\n",
        "## 07-2 while迴圈\n",
        "* `while 條件運算：`\n",
        "         `程式區塊`\n",
        "* 巢狀while迴圈  \n",
        "* 強制離開while迴圈指令：break\n",
        "* while迴圈不往下執行，跳至下一次迴圈中：continue"
      ]
    },
    {
      "cell_type": "code",
      "metadata": {
        "id": "H4UldUoGTxpI",
        "colab_type": "code",
        "colab": {
          "base_uri": "https://localhost:8080/",
          "height": 85
        },
        "outputId": "3db0ece7-f904-4ccb-a141-d01311187c8a"
      },
      "source": [
        "#基本for迴圈\n",
        "a = [1,2,3,4]\n",
        "for i in a:\n",
        "  i += i\n",
        "print(i)\n",
        "\n",
        "for i in a[1:]:\n",
        "  print(i)"
      ],
      "execution_count": 46,
      "outputs": [
        {
          "output_type": "stream",
          "text": [
            "8\n",
            "2\n",
            "3\n",
            "4\n"
          ],
          "name": "stdout"
        }
      ]
    },
    {
      "cell_type": "code",
      "metadata": {
        "id": "S7F1xy1cYWSg",
        "colab_type": "code",
        "colab": {
          "base_uri": "https://localhost:8080/",
          "height": 34
        },
        "outputId": "05d14166-9898-4043-d580-073c4f4e8444"
      },
      "source": [
        "#基本for迴圈\n",
        "name = [[26,'Tim',],[66,'Peter'],[30,'Tom'],[18,'Tiny']]\n",
        "young_name = []\n",
        "for y, n in name:\n",
        "  if (20<=y<65):\n",
        "    young_name.append(n)\n",
        "print(young_name)"
      ],
      "execution_count": 47,
      "outputs": [
        {
          "output_type": "stream",
          "text": [
            "['Tim', 'Tom']\n"
          ],
          "name": "stdout"
        }
      ]
    },
    {
      "cell_type": "code",
      "metadata": {
        "id": "Qohvz6-tYYlu",
        "colab_type": "code",
        "colab": {
          "base_uri": "https://localhost:8080/",
          "height": 51
        },
        "outputId": "9856f7be-f9d9-453d-db21-aeede4ddeb3d"
      },
      "source": [
        "#range\n",
        "for i in range(5):\n",
        "  print(i,end=\" \")\n",
        "print()\n",
        "\n",
        "for i in range(0,10,2):\n",
        "  print(i,end=\" \")\n",
        "print()"
      ],
      "execution_count": 48,
      "outputs": [
        {
          "output_type": "stream",
          "text": [
            "0 1 2 3 4 \n",
            "0 2 4 6 8 \n"
          ],
          "name": "stdout"
        }
      ]
    },
    {
      "cell_type": "code",
      "metadata": {
        "id": "ywEuo2IqYbPX",
        "colab_type": "code",
        "colab": {
          "base_uri": "https://localhost:8080/",
          "height": 51
        },
        "outputId": "1336452d-80b6-4bee-b914-de55ce1cefea"
      },
      "source": [
        "#list\n",
        "save_number = []\n",
        "for i in range(0,10,1):\n",
        "  save_number.append(i)\n",
        "print(save_number)\n",
        "\n",
        "save_number = list(range(0,10,1))\n",
        "print(save_number)"
      ],
      "execution_count": 49,
      "outputs": [
        {
          "output_type": "stream",
          "text": [
            "[0, 1, 2, 3, 4, 5, 6, 7, 8, 9]\n",
            "[0, 1, 2, 3, 4, 5, 6, 7, 8, 9]\n"
          ],
          "name": "stdout"
        }
      ]
    },
    {
      "cell_type": "code",
      "metadata": {
        "id": "p8bgCAW1YdRO",
        "colab_type": "code",
        "colab": {
          "base_uri": "https://localhost:8080/",
          "height": 221
        },
        "outputId": "a625a891-a12e-4dcf-e8ef-7b1885030ca8"
      },
      "source": [
        "#enumerate\n",
        "alphabet = ['A','B','C','D']\n",
        "for alp in enumerate(alphabet):\n",
        "  print(alp)\n",
        "\n",
        "for index, alp in enumerate(alphabet):\n",
        "  print(index, alp)\n",
        "\n",
        "for index, alp in enumerate(alphabet,10):\n",
        "  print(index, alp)"
      ],
      "execution_count": 50,
      "outputs": [
        {
          "output_type": "stream",
          "text": [
            "(0, 'A')\n",
            "(1, 'B')\n",
            "(2, 'C')\n",
            "(3, 'D')\n",
            "0 A\n",
            "1 B\n",
            "2 C\n",
            "3 D\n",
            "10 A\n",
            "11 B\n",
            "12 C\n",
            "13 D\n"
          ],
          "name": "stdout"
        }
      ]
    },
    {
      "cell_type": "code",
      "metadata": {
        "id": "WS73Lm5dYe2f",
        "colab_type": "code",
        "colab": {
          "base_uri": "https://localhost:8080/",
          "height": 34
        },
        "outputId": "21ca1e4d-9fa4-43ef-c250-f4dccfb3bb28"
      },
      "source": [
        "#break\n",
        "for i in range(20):\n",
        "  if (i>8):\n",
        "    break\n",
        "  print(i,end=' ')\n",
        "print()"
      ],
      "execution_count": 51,
      "outputs": [
        {
          "output_type": "stream",
          "text": [
            "0 1 2 3 4 5 6 7 8 \n"
          ],
          "name": "stdout"
        }
      ]
    },
    {
      "cell_type": "code",
      "metadata": {
        "id": "m-Zv6n2uYghX",
        "colab_type": "code",
        "colab": {
          "base_uri": "https://localhost:8080/",
          "height": 34
        },
        "outputId": "4866a7b5-5b45-4789-e9fa-cf0f095c899e"
      },
      "source": [
        "#continue\n",
        "score_name = [['Kint',100],['Peter',60],['Sam', 45],['Tom', 59],['Tim',70]]\n",
        "good = 0\n",
        "save_name = []\n",
        "for name, score in score_name:\n",
        "  if score < 60:\n",
        "    continue \n",
        "  good += 1\n",
        "  save_name.append(name)\n",
        "print(\"及格有%d個人，名字為：%s\" %(good,save_name))"
      ],
      "execution_count": 52,
      "outputs": [
        {
          "output_type": "stream",
          "text": [
            "及格有3個人，名字為：['Kint', 'Peter', 'Tim']\n"
          ],
          "name": "stdout"
        }
      ]
    },
    {
      "cell_type": "code",
      "metadata": {
        "id": "DgiVi3UrYh4n",
        "colab_type": "code",
        "colab": {
          "base_uri": "https://localhost:8080/",
          "height": 34
        },
        "outputId": "61f3a9cc-909f-42b7-913d-bad7bf55c9d0"
      },
      "source": [
        "#while\n",
        "a = 0\n",
        "while a<10:\n",
        "  a += 1\n",
        "  print(a,end=' ')"
      ],
      "execution_count": 53,
      "outputs": [
        {
          "output_type": "stream",
          "text": [
            "1 2 3 4 5 6 7 8 9 10 "
          ],
          "name": "stdout"
        }
      ]
    },
    {
      "cell_type": "markdown",
      "metadata": {
        "id": "ZcvJGNE1oZcD",
        "colab_type": "text"
      },
      "source": [
        "# 08 元組(Tuple)\n",
        "`tuple=(元素1, ..., 元素n)`\n",
        "\n",
        "* 與列表類似，最大差異是元素值與元素個數不可更動，不可以再給予賦值\n",
        "* 列表與元組資料互換\n",
        "* 使用zip打包多個物件\n",
        "\n",
        "### **優點**\n",
        "* 可以更安全保護資料\n",
        "* 加快程式執行速度，占用較少的系統資源"
      ]
    },
    {
      "cell_type": "code",
      "metadata": {
        "id": "5F9t1W6U7wIo",
        "colab_type": "code",
        "colab": {
          "base_uri": "https://localhost:8080/",
          "height": 51
        },
        "outputId": "a8dfdaa8-30b0-470c-aaa3-e68ff66f5415"
      },
      "source": [
        "number = (1,2,3,4,5)\n",
        "print(type(number))\n",
        "\n",
        "#快速建立元組的方法\n",
        "alphabet = 'A', 'B', 'C'\n",
        "print(alphabet)"
      ],
      "execution_count": 54,
      "outputs": [
        {
          "output_type": "stream",
          "text": [
            "<class 'tuple'>\n",
            "('A', 'B', 'C')\n"
          ],
          "name": "stdout"
        }
      ]
    },
    {
      "cell_type": "code",
      "metadata": {
        "id": "Nb1D41ukYwrm",
        "colab_type": "code",
        "colab": {}
      },
      "source": [
        "#修改元組內容產生錯誤\n",
        "#number[0] = 1 "
      ],
      "execution_count": 55,
      "outputs": []
    },
    {
      "cell_type": "code",
      "metadata": {
        "id": "9ONrcCnFZNWH",
        "colab_type": "code",
        "colab": {
          "base_uri": "https://localhost:8080/",
          "height": 170
        },
        "outputId": "88578e8f-09da-4d80-e0be-8a1da0bc1b13"
      },
      "source": [
        "#元組切片(與列表相同)\n",
        "number = (0,1,2,3,4,5,6,7,8,9,10)\n",
        "matrix = ((0,1,2),(3,4,5),(6,7,8))\n",
        "\n",
        "print(number[2:5])\n",
        "print(number[:3])\n",
        "print(number[:-3])\n",
        "print(number[7:])\n",
        "print(number[-7:])\n",
        "print(number[-1])\n",
        "\n",
        "print(matrix[0][2])\n",
        "print(matrix[1][1:])\n",
        "print(matrix[-1][-1])"
      ],
      "execution_count": 56,
      "outputs": [
        {
          "output_type": "stream",
          "text": [
            "(2, 3, 4)\n",
            "(0, 1, 2)\n",
            "(0, 1, 2, 3, 4, 5, 6, 7)\n",
            "(7, 8, 9, 10)\n",
            "(4, 5, 6, 7, 8, 9, 10)\n",
            "10\n",
            "2\n",
            "(4, 5)\n",
            "8\n"
          ],
          "name": "stdout"
        }
      ]
    },
    {
      "cell_type": "code",
      "metadata": {
        "id": "j53MTOh3ZPsf",
        "colab_type": "code",
        "colab": {
          "base_uri": "https://localhost:8080/",
          "height": 51
        },
        "outputId": "92419a3b-eafc-4e51-c4da-52066a63d837"
      },
      "source": [
        "#列表與元組資料互換\n",
        "number = list(number)\n",
        "print(number)\n",
        "number = tuple(number)\n",
        "print(number)"
      ],
      "execution_count": 57,
      "outputs": [
        {
          "output_type": "stream",
          "text": [
            "[0, 1, 2, 3, 4, 5, 6, 7, 8, 9, 10]\n",
            "(0, 1, 2, 3, 4, 5, 6, 7, 8, 9, 10)\n"
          ],
          "name": "stdout"
        }
      ]
    },
    {
      "cell_type": "code",
      "metadata": {
        "id": "Wz28tSUNZQ8X",
        "colab_type": "code",
        "colab": {
          "base_uri": "https://localhost:8080/",
          "height": 136
        },
        "outputId": "9c336b8b-1173-417b-fe34-5bf8f1f1c570"
      },
      "source": [
        "#zip打包多個物件\n",
        "year = (20, 18, 30, 42, 25)\n",
        "name = ('Kint','Peter','Sam','Tom','Tim')\n",
        "zipdata = zip(year, name)\n",
        "print(type(zipdata))\n",
        "print(list(zipdata))\n",
        "\n",
        "for i in zip(year, name):\n",
        "  print(\"年齡：%d, 姓名：%s\" %(i[0],i[1]))"
      ],
      "execution_count": 58,
      "outputs": [
        {
          "output_type": "stream",
          "text": [
            "<class 'zip'>\n",
            "[(20, 'Kint'), (18, 'Peter'), (30, 'Sam'), (42, 'Tom'), (25, 'Tim')]\n",
            "年齡：20, 姓名：Kint\n",
            "年齡：18, 姓名：Peter\n",
            "年齡：30, 姓名：Sam\n",
            "年齡：42, 姓名：Tom\n",
            "年齡：25, 姓名：Tim\n"
          ],
          "name": "stdout"
        }
      ]
    },
    {
      "cell_type": "markdown",
      "metadata": {
        "id": "10LMO-OdojbX",
        "colab_type": "text"
      },
      "source": [
        "# 09 字典(Dict)\n",
        "\n",
        "* 定義字典：\n",
        "  * 字典是一個非序列的資料結構，元素以\"鍵(key):值(value)\"方式配對儲存\n",
        "\n",
        "   `dict={key1:value1, ..., key2:value2}`\n",
        "\n",
        "  * key通常以字串或數字當作是鍵，在一個字典中不可有重複的key出現。value則可以任何python的資料物件\n",
        "\n",
        "* 基本操作\n",
        "  * 列出/讀取\n",
        "  * 增加字典元素\n",
        "  * 更改字典元素內容\n",
        "  * 刪除字典的key與元素\n",
        "  * 字典拷貝\n",
        "  * 驗證key是否存在\n",
        "  * 合併字典\n",
        "  * 列表轉為字典\n",
        "    * 雙值列表序列轉換\n",
        "    * fromkeys()\n",
        "  * 搜尋鍵，返回值：get() \n"
      ]
    },
    {
      "cell_type": "markdown",
      "metadata": {
        "id": "-5EqyFljovfL",
        "colab_type": "text"
      },
      "source": [
        "# 11 函數(Function)\n",
        "* 函數設計\n",
        "* 單個參數與多個參數\n",
        "* 關鍵字參數(參數名稱=值)\n",
        "* 參數預設值\n",
        "* 傳回值\n",
        "* 全域變數與區域變數"
      ]
    },
    {
      "cell_type": "markdown",
      "metadata": {
        "id": "311AsmUKo2nQ",
        "colab_type": "text"
      },
      "source": [
        "# 12 類別(Class)"
      ]
    }
  ]
}